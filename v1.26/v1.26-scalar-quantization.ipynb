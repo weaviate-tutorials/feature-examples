{
 "cells": [
  {
   "cell_type": "markdown",
   "metadata": {},
   "source": [
    "# Weaviate v1.26 code samples - Scalar quantization\n",
    "\n",
    "This notebook contains sample code to setup a sample collection with scalar quantization (SQ) enabled.\n",
    "\n",
    "Additional information:\n",
    "- [Weaviate documentation](https://weaviate.io/developers/weaviate)\n",
    "- [Weaviate v1.26 release notes](https://weaviate.io/developers/weaviate/release-notes/release_1_26)"
   ]
  },
  {
   "cell_type": "code",
   "execution_count": 8,
   "metadata": {},
   "outputs": [],
   "source": [
    "# CREATE A CLIENT (LOCALHOST)\n",
    "\n",
    "import weaviate\n",
    "\n",
    "client = weaviate.connect_to_local()\n",
    "\n",
    "# Uncomment to check the connection\n",
    "# client.is_ready()"
   ]
  },
  {
   "cell_type": "code",
   "execution_count": 9,
   "metadata": {},
   "outputs": [],
   "source": [
    "# DEFINE CONSTANTS\n",
    "\n",
    "collection = \"Wikipedia\""
   ]
  },
  {
   "cell_type": "code",
   "execution_count": null,
   "metadata": {},
   "outputs": [],
   "source": [
    "# COLLECTION DEFINITION - COMPRESSED\n",
    "\n",
    "from weaviate.classes.config import Configure\n",
    "\n",
    "# Remove old version of this collection if there is one\n",
    "if (client.collections.exists(collection)):\n",
    "    client.collections.delete(collection)\n",
    "    print(f\"Removed old collection: {collection}\")\n",
    "\n",
    "# Define the collection\n",
    "# articles = client.collections.create(\n",
    "client.collections.create(\n",
    "    name=collection,\n",
    "    description=\"Wikipedia articles\",\n",
    "    vectorizer_config=Configure.Vectorizer.text2vec_cohere(\n",
    "        model=\"embed-multilingual-v3.0\"\n",
    "    ),\n",
    "    # Compress the collection data\n",
    "    vector_index_config=Configure.VectorIndex.hnsw(\n",
    "        quantizer=Configure.VectorIndex.Quantizer.sq()\n",
    "    ),\n",
    ")"
   ]
  },
  {
   "cell_type": "code",
   "execution_count": 6,
   "metadata": {},
   "outputs": [],
   "source": [
    "# COLLECTION DEFINITION - CUSTOM\n",
    "\n",
    "# Make sure no old class\n",
    "if (client.collections.exists(collection)):\n",
    "    client.collections.delete(collection)\n",
    "\n",
    "import weaviate.classes.config as wc\n",
    "\n",
    "client.collections.create(\n",
    "    name=collection,\n",
    "    vectorizer_config=wc.Configure.Vectorizer.text2vec_openai(),\n",
    "    vector_index_config=wc.Configure.VectorIndex.hnsw(\n",
    "        distance_metric=wc.VectorDistances.COSINE,\n",
    "        vector_cache_max_objects=100000,\n",
    "        quantizer=wc.Configure.VectorIndex.Quantizer.sq(\n",
    "            training_limit=75000,\n",
    "            rescore_limit=200,\n",
    "            cache=True\n",
    "        )\n",
    "    ),\n",
    ")\n"
   ]
  }
 ],
 "metadata": {
  "kernelspec": {
   "display_name": ".venv",
   "language": "python",
   "name": "python3"
  },
  "language_info": {
   "codemirror_mode": {
    "name": "ipython",
    "version": 3
   },
   "file_extension": ".py",
   "mimetype": "text/x-python",
   "name": "python",
   "nbconvert_exporter": "python",
   "pygments_lexer": "ipython3",
   "version": "3.11.5"
  }
 },
 "nbformat": 4,
 "nbformat_minor": 2
}
