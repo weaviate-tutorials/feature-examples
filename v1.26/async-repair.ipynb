{
 "cells": [
  {
   "cell_type": "markdown",
   "metadata": {},
   "source": [
    "# Weaviate v1.26 code samples - Aysnc repair\n",
    "\n",
    "This notebook contains sample code to setup a sample collection with asynchronous repair enabled. \n",
    "\n",
    "Additional information:\n",
    "- [Weaviate documentation](https://weaviate.io/developers/weaviate)\n",
    "- [Weaviate v1.26 release notes](https://weaviate.io/developers/weaviate/release-notes/release_1_26)"
   ]
  },
  {
   "cell_type": "code",
   "execution_count": null,
   "metadata": {},
   "outputs": [],
   "source": [
    "# CREATE A CLIENT (LOCALHOST)\n",
    "\n",
    "import weaviate\n",
    "\n",
    "client = weaviate.connect_to_local()\n",
    "\n",
    "# Uncomment to check the connection\n",
    "# client.is_ready()"
   ]
  },
  {
   "cell_type": "code",
   "execution_count": 10,
   "metadata": {},
   "outputs": [],
   "source": [
    "# DEFINE CONSTANTS\n",
    "collection = client.collections.get(\"Wikipedia\")"
   ]
  },
  {
   "cell_type": "code",
   "execution_count": null,
   "metadata": {},
   "outputs": [],
   "source": [
    "# COLLECTION DEFINITION - ENABLE ASYNC REPAIR\n",
    "\n",
    "# NOTE: This feature requires a multi-node Weaviate cluster\n",
    "\n",
    "from weaviate.classes.config import Configure\n",
    "\n",
    "# Remove old version of this collection if there is one\n",
    "if (client.collections.exists(collection)):\n",
    "    client.collections.delete(collection)\n",
    "    print(f\"Removed old collection: {collection}\")\n",
    "\n",
    "\n",
    "client.collections.create(\n",
    "    \"Article\",\n",
    "    replication_config=Configure.replication(\n",
    "        factor=3,\n",
    "        async_enabled=True,\n",
    "    )\n",
    ")\n"
   ]
  }
 ],
 "metadata": {
  "kernelspec": {
   "display_name": ".venv",
   "language": "python",
   "name": "python3"
  },
  "language_info": {
   "codemirror_mode": {
    "name": "ipython",
    "version": 3
   },
   "file_extension": ".py",
   "mimetype": "text/x-python",
   "name": "python",
   "nbconvert_exporter": "python",
   "pygments_lexer": "ipython3",
   "version": "3.11.5"
  }
 },
 "nbformat": 4,
 "nbformat_minor": 2
}
