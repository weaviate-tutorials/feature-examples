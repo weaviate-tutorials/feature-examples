{
 "cells": [
  {
   "cell_type": "markdown",
   "metadata": {},
   "source": [
    "# Weaviate v1.26 code samples - Multi-target vector search\n",
    "\n",
    "This notebook contains sample code to setup a sample collection with asynchronous repair enabled. \n",
    "\n",
    "Additional information:\n",
    "- [Weaviate documentation](https://weaviate.io/developers/weaviate)\n",
    "- [Weaviate v1.26 release notes](https://weaviate.io/developers/weaviate/release-notes/release_1_26)"
   ]
  },
  {
   "cell_type": "code",
   "execution_count": 12,
   "metadata": {},
   "outputs": [],
   "source": [
    "# CREATE A CLIENT (LOCALHOST)\n",
    "\n",
    "import os\n",
    "import weaviate\n",
    "\n",
    "client = weaviate.connect_to_local(\n",
    "    headers={\"X-OpenAI-Api-Key\": os.environ[\"OPENAI_API_KEY\"],}\n",
    ")\n",
    "\n",
    "# Uncomment to check the connection\n",
    "# client.is_ready()"
   ]
  },
  {
   "cell_type": "markdown",
   "metadata": {},
   "source": [
    "MULTI-TARGET VECTORS SETUP\n",
    "\n",
    "- Define a collection that has multiple vectors \n",
    "- Upload data to the collection"
   ]
  },
  {
   "cell_type": "code",
   "execution_count": 32,
   "metadata": {},
   "outputs": [],
   "source": [
    "# DEFINE CONSTANTS\n",
    "collection = \"JeopardyTiny\""
   ]
  },
  {
   "cell_type": "code",
   "execution_count": null,
   "metadata": {},
   "outputs": [],
   "source": [
    "# DEFINE THE COLLECTION\n",
    "\n",
    "from weaviate.classes.config import Configure, Property, DataType\n",
    "\n",
    "# Remove old version of this collection if there is one\n",
    "if (client.collections.exists(collection)):\n",
    "    client.collections.delete(collection)\n",
    "    # print(f\"Removed old collection: {collection}\")\n",
    "\n",
    "# Define a new schema\n",
    "client.collections.create(\n",
    "    name=collection,\n",
    "    description=\"Jeopardy game show questions\",\n",
    "    vectorizer_config=[\n",
    "        Configure.NamedVectors.text2vec_openai(\n",
    "            name=\"jeopardy_questions_vector\",\n",
    "            source_properties=[\"question\"],\n",
    "            vectorize_collection_name=False,\n",
    "        ),\n",
    "        Configure.NamedVectors.text2vec_openai(\n",
    "            name=\"jeopardy_answers_vector\",\n",
    "            source_properties=[\"answer\"],\n",
    "            vectorize_collection_name=False,\n",
    "        ),\n",
    "    ],\n",
    "    properties=[\n",
    "        Property(name=\"category\", data_type=DataType.TEXT),\n",
    "        Property(name=\"question\", data_type=DataType.TEXT),\n",
    "        Property(name=\"answer\", data_type=DataType.TEXT),\n",
    "    ],\n",
    ")\n",
    "\n",
    "## CHECK VALUES - uncomment the next line to see the collection definition\n",
    "# print(client.collections.get(collection))"
   ]
  },
  {
   "cell_type": "code",
   "execution_count": 21,
   "metadata": {},
   "outputs": [],
   "source": [
    "# UPLOAD THE DATA\n",
    "\n",
    "# Uncomment to install the requests module\n",
    "# !pip install requests\n",
    "import json, requests\n",
    "\n",
    "\n",
    "# Get the sample data set\n",
    "resp = requests.get(\n",
    "    \"https://raw.githubusercontent.com/weaviate-tutorials/quickstart/main/data/jeopardy_tiny.json\"\n",
    ")\n",
    "data = json.loads(resp.text)\n",
    "\n",
    "# Prepare the sample data for upload\n",
    "question_objects = list()\n",
    "for row in data:\n",
    "    question_objects.append(\n",
    "        {\n",
    "            \"question\": row[\"Question\"],\n",
    "            \"answer\": row[\"Answer\"],\n",
    "            \"category\": row[\"Category\"],\n",
    "        }\n",
    "    )\n",
    "\n",
    "# Upload the sample data\n",
    "jeopardy = client.collections.get(collection)\n",
    "with jeopardy.batch.dynamic() as batch:\n",
    "    for q in question_objects:\n",
    "        batch.add_object(properties=q)\n"
   ]
  },
  {
   "cell_type": "code",
   "execution_count": null,
   "metadata": {},
   "outputs": [],
   "source": [
    "# PRINT THE FIRST FEW OBJECTS\n",
    "import pprint as pp\n",
    "\n",
    "response = jeopardy.query.fetch_objects(\n",
    "        include_vector=True,\n",
    "        limit=1\n",
    "        )\n",
    "\n",
    "# Uncomment to see the first object\n",
    "# for o in response.objects:\n",
    "#     pp.pprint(o.properties)\n",
    "#     for k,v in o.vector.items():\n",
    "#         print(f\"vector: {k}  {v}\")"
   ]
  },
  {
   "cell_type": "markdown",
   "metadata": {},
   "source": [
    "MULTI-TARGET VECTOR QUERY EXAMPLES"
   ]
  },
  {
   "cell_type": "code",
   "execution_count": null,
   "metadata": {},
   "outputs": [],
   "source": [
    "# BASIC QUERY\n",
    "\n",
    "jeopardy = client.collections.get(collection)\n",
    "response = jeopardy.query.near_text(\n",
    "    query=\"a wild animal\",\n",
    "    limit=2,\n",
    "    target_vector=[\"jeopardy_questions_vector\", \"jeopardy_answers_vector\"],  # Specify the target vectors\n",
    ")\n",
    "\n",
    "for o in response.objects:\n",
    "    print(o.properties)\n"
   ]
  },
  {
   "cell_type": "code",
   "execution_count": null,
   "metadata": {},
   "outputs": [],
   "source": [
    "### MULTI-TARGET QUERY, ADJUST RELATIVE WEIGHTS\n",
    "\n",
    "from weaviate.classes.query import TargetVectors\n",
    "\n",
    "jeopardy = client.collections.get(collection)\n",
    "response = jeopardy.query.near_text(\n",
    "    query=\"a wild animal\",\n",
    "    limit=2,\n",
    "    target_vector=TargetVectors.manual_weights({\"jeopardy_questions_vector\": 5, \"jeopardy_answers_vector\": 0.3})\n",
    ")\n",
    "\n",
    "for o in response.objects:\n",
    "    print(o.properties)\n"
   ]
  }
 ],
 "metadata": {
  "kernelspec": {
   "display_name": ".venv",
   "language": "python",
   "name": "python3"
  },
  "language_info": {
   "codemirror_mode": {
    "name": "ipython",
    "version": 3
   },
   "file_extension": ".py",
   "mimetype": "text/x-python",
   "name": "python",
   "nbconvert_exporter": "python",
   "pygments_lexer": "ipython3",
   "version": "3.11.5"
  }
 },
 "nbformat": 4,
 "nbformat_minor": 2
}
