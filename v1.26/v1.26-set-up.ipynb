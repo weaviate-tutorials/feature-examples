{
 "cells": [
  {
   "cell_type": "markdown",
   "metadata": {},
   "source": [
    "# Weaviate v1.26 code samples - Setup\n",
    "\n",
    "This notebook contains sample code to setup a sample collection\n",
    "\n",
    "Additional information:\n",
    "- [Weaviate documentation](https://weaviate.io/developers/weaviate)\n",
    "- [Weaviate v1.26 release notes](https://weaviate.io/developers/weaviate/release-notes/release_1_26)\n"
   ]
  },
  {
   "cell_type": "code",
   "execution_count": null,
   "metadata": {},
   "outputs": [],
   "source": [
    "# INSTALL THE WEAVIATE CLIENT\n",
    "\n",
    "# Uncomment to clear your current pip cache\n",
    "# !pip cache purge\n",
    "\n",
    "# Uncomment to upgrade pip\n",
    "# !pip install --upgrade pip\n",
    "\n",
    "# Install client from public released\n",
    "!pip3 install --no-cache -U \"weaviate-client==4.*\"\n",
    "\n",
    "# Check installed client version\n",
    "!pip show weaviate-client | grep Version"
   ]
  },
  {
   "cell_type": "code",
   "execution_count": null,
   "metadata": {},
   "outputs": [],
   "source": [
    "# FETCH DATASETS\n",
    "\n",
    "%pip install -U weaviate-demo-datasets"
   ]
  },
  {
   "cell_type": "code",
   "execution_count": null,
   "metadata": {},
   "outputs": [],
   "source": [
    "# CREATE A CLIENT (LOCALHOST)\n",
    "\n",
    "import weaviate\n",
    "\n",
    "client = weaviate.connect_to_local()\n",
    "\n",
    "# Uncomment to check connection\n",
    "# client.is_ready()"
   ]
  },
  {
   "cell_type": "code",
   "execution_count": null,
   "metadata": {},
   "outputs": [],
   "source": [
    "# IMPORT DATA\n",
    "\n",
    "import weaviate_datasets as wd\n",
    "\n",
    "# Delete old collections and start fresh\n",
    "if (client.collections.exists(\"JeopardyQuestion\")):\n",
    "    client.collections.delete(\"JeopardyQuestion\")\n",
    "\n",
    "if (client.collections.exists(\"JeopardyCategory\")):\n",
    "    client.collections.delete(\"JeopardyCategory\")\n",
    "\n",
    "# batch upload\n",
    "d=wd.JeopardyQuestions1k()\n",
    "d.upload_dataset(client)\n",
    "\n",
    "# Uncomment to verify the data import\n",
    "# collection_question = client.collections.get(\"JeopardyQuestion\")\n",
    "# response = collection_question.aggregate.over_all(total_count=True)\n",
    "# print( response.total_count )\n",
    "# collection_category = client.collections.get(\"JeopardyCategory\")\n",
    "# response = collection_category.aggregate.over_all(total_count=True)\n",
    "# print( response.total_count )"
   ]
  }
 ],
 "metadata": {
  "kernelspec": {
   "display_name": ".venv",
   "language": "python",
   "name": "python3"
  },
  "language_info": {
   "codemirror_mode": {
    "name": "ipython",
    "version": 3
   },
   "file_extension": ".py",
   "mimetype": "text/x-python",
   "name": "python",
   "nbconvert_exporter": "python",
   "pygments_lexer": "ipython3",
   "version": "3.11.5"
  }
 },
 "nbformat": 4,
 "nbformat_minor": 2
}
